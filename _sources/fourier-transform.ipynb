{
 "cells": [
  {
   "cell_type": "markdown",
   "metadata": {},
   "source": [
    "# Fourier Transform"
   ]
  },
  {
   "cell_type": "markdown",
   "metadata": {},
   "source": [
    "Is a method of representing mathematical models of signals and systems in the frequency domain.\n",
    "\n",
    "## Introduction\n",
    "\n",
    "The Fourier Transform is a mathematical tool used to decompose a signal into its frequency components. It is named after the French mathematician Jean-Baptiste Joseph Fourier, who introduced the concept in the early 19th century. The Fourier Transform is used in various fields, including engineering, physics, and mathematics, to analyze and understand signals and systems.\n",
    "\n",
    "## Definition\n",
    "\n",
    "The Fourier Transform of a continuous-time signal \\( x(t) \\) is given by:\n",
    "\n",
    "$ X(f) = \\int_{-\\infty}^{\\infty} x(t) e^{-j2\\pi ft} dt $\n",
    "\n",
    "where:  \n",
    "- $X(f)$ is the frequency domain representation of the signal.\n",
    "- $f$ is the frequency variable.\n",
    "- $j$ is the imaginary unit.\n",
    "- $e^{-j2\\pi ft}$ is the complex exponential function.\n",
    "\n",
    "\n",
    "The Fourier Transform is a powerful tool for analyzing signals because it allows us to decompose a complex signal into its simple frequency components. This is particularly useful in signal processing, where it is used for tasks such as filtering, modulation, and demodulation.\n",
    "\n",
    "Let's see a example of Fourier Transform.\n"
   ]
  },
  {
   "cell_type": "code",
   "execution_count": 3,
   "metadata": {},
   "outputs": [
    {
     "ename": "ModuleNotFoundError",
     "evalue": "No module named 'matplotlib'",
     "output_type": "error",
     "traceback": [
      "\u001b[0;31m---------------------------------------------------------------------------\u001b[0m",
      "\u001b[0;31mModuleNotFoundError\u001b[0m                       Traceback (most recent call last)",
      "Cell \u001b[0;32mIn[3], line 2\u001b[0m\n\u001b[1;32m      1\u001b[0m \u001b[38;5;28;01mimport\u001b[39;00m \u001b[38;5;21;01mnumpy\u001b[39;00m \u001b[38;5;28;01mas\u001b[39;00m \u001b[38;5;21;01mnp\u001b[39;00m\n\u001b[0;32m----> 2\u001b[0m \u001b[38;5;28;01mimport\u001b[39;00m \u001b[38;5;21;01mmatplotlib\u001b[39;00m\u001b[38;5;21;01m.\u001b[39;00m\u001b[38;5;21;01mpyplot\u001b[39;00m \u001b[38;5;28;01mas\u001b[39;00m \u001b[38;5;21;01mplt\u001b[39;00m\n\u001b[1;32m      3\u001b[0m \u001b[38;5;28;01mfrom\u001b[39;00m \u001b[38;5;21;01mmatplotlib\u001b[39;00m\u001b[38;5;21;01m.\u001b[39;00m\u001b[38;5;21;01manimation\u001b[39;00m \u001b[38;5;28;01mimport\u001b[39;00m FuncAnimation\n\u001b[1;32m      5\u001b[0m \u001b[38;5;66;03m# Set up the figure and axis\u001b[39;00m\n",
      "\u001b[0;31mModuleNotFoundError\u001b[0m: No module named 'matplotlib'"
     ]
    }
   ],
   "source": [
    "import numpy as np\n",
    "import matplotlib.pyplot as plt\n",
    "from matplotlib.animation import FuncAnimation\n",
    "\n",
    "# Set up the figure and axis\n",
    "fig, (ax1, ax2) = plt.subplots(2, 1, figsize=(10, 8))\n",
    "plt.subplots_adjust(hspace=0.4)\n",
    "\n",
    "# Generate time array\n",
    "t = np.linspace(0, 1, 1000, endpoint=False)\n",
    "\n",
    "# Create a complex signal\n",
    "def create_signal(t):\n",
    "    return (\n",
    "        np.sin(2 * np.pi * 10 * t) +  # 10 Hz component\n",
    "        0.5 * np.sin(2 * np.pi * 20 * t) +  # 20 Hz component\n",
    "        0.3 * np.sin(2 * np.pi * 30 * t)  # 30 Hz component\n",
    "    )\n",
    "\n",
    "# Perform FFT\n",
    "signal = create_signal(t)\n",
    "fft_result = np.fft.fft(signal)\n",
    "freqs = np.fft.fftfreq(len(t), t[1] - t[0])\n",
    "\n",
    "# Plot initial state\n",
    "line1, = ax1.plot(t, signal)\n",
    "ax1.set_xlim(0, 1)\n",
    "ax1.set_ylim(-2, 2)\n",
    "ax1.set_xlabel('Time (s)')\n",
    "ax1.set_ylabel('Amplitude')\n",
    "ax1.set_title('Time Domain Signal')\n",
    "\n",
    "line2, = ax2.plot(freqs[:len(freqs)//2], np.abs(fft_result)[:len(freqs)//2])\n",
    "ax2.set_xlim(0, 50)\n",
    "ax2.set_ylim(0, 600)\n",
    "ax2.set_xlabel('Frequency (Hz)')\n",
    "ax2.set_ylabel('Magnitude')\n",
    "ax2.set_title('Frequency Domain (FFT)')\n",
    "\n",
    "# Animation update function\n",
    "def update(frame):\n",
    "    # Update time domain plot\n",
    "    current_signal = create_signal(t[:frame])\n",
    "    line1.set_data(t[:frame], current_signal)\n",
    "    \n",
    "    # Update frequency domain plot\n",
    "    if frame > 1:\n",
    "        current_fft = np.fft.fft(current_signal)\n",
    "        current_freqs = np.fft.fftfreq(len(t[:frame]), t[1] - t[0])\n",
    "        line2.set_data(current_freqs[:len(current_freqs)//2], \n",
    "                       np.abs(current_fft)[:len(current_freqs)//2])\n",
    "    \n",
    "    return line1, line2\n",
    "\n",
    "# Create animation\n",
    "anim = FuncAnimation(fig, update, frames=1000, interval=20, blit=True)\n",
    "\n",
    "plt.tight_layout()\n",
    "plt.show()"
   ]
  }
 ],
 "metadata": {
  "kernelspec": {
   "display_name": "torch-gpu",
   "language": "python",
   "name": "python3"
  },
  "language_info": {
   "codemirror_mode": {
    "name": "ipython",
    "version": 3
   },
   "file_extension": ".py",
   "mimetype": "text/x-python",
   "name": "python",
   "nbconvert_exporter": "python",
   "pygments_lexer": "ipython3",
   "version": "3.12.2"
  }
 },
 "nbformat": 4,
 "nbformat_minor": 2
}
